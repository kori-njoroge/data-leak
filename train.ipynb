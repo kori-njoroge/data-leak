{
 "cells": [
  {
   "cell_type": "code",
   "execution_count": null,
   "metadata": {},
   "outputs": [],
   "source": [
    "# imports \n",
    "import pandas as pd"
   ]
  },
  {
   "cell_type": "code",
   "execution_count": 30,
   "metadata": {},
   "outputs": [
    {
     "data": {
      "text/html": [
       "<div>\n",
       "<style scoped>\n",
       "    .dataframe tbody tr th:only-of-type {\n",
       "        vertical-align: middle;\n",
       "    }\n",
       "\n",
       "    .dataframe tbody tr th {\n",
       "        vertical-align: top;\n",
       "    }\n",
       "\n",
       "    .dataframe thead th {\n",
       "        text-align: right;\n",
       "    }\n",
       "</style>\n",
       "<table border=\"1\" class=\"dataframe\">\n",
       "  <thead>\n",
       "    <tr style=\"text-align: right;\">\n",
       "      <th></th>\n",
       "      <th>_raw</th>\n",
       "      <th>_time</th>\n",
       "      <th>eventtype</th>\n",
       "      <th>host</th>\n",
       "      <th>index</th>\n",
       "      <th>linecount</th>\n",
       "      <th>punct</th>\n",
       "      <th>source</th>\n",
       "      <th>sourcetype</th>\n",
       "      <th>splunk_server</th>\n",
       "      <th>splunk_server_group</th>\n",
       "      <th>timestamp</th>\n",
       "    </tr>\n",
       "  </thead>\n",
       "  <tbody>\n",
       "    <tr>\n",
       "      <th>0</th>\n",
       "      <td>acpi</td>\n",
       "      <td>2023-04-26T14:57:59.000+03:00</td>\n",
       "      <td>NaN</td>\n",
       "      <td>Corey</td>\n",
       "      <td>main</td>\n",
       "      <td>1</td>\n",
       "      <td>NaN</td>\n",
       "      <td>/sys/kernel/reboot/type</td>\n",
       "      <td>type-too_small</td>\n",
       "      <td>Corey</td>\n",
       "      <td>NaN</td>\n",
       "      <td>none</td>\n",
       "    </tr>\n",
       "    <tr>\n",
       "      <th>1</th>\n",
       "      <td>1</td>\n",
       "      <td>2023-04-26T14:57:59.000+03:00</td>\n",
       "      <td>NaN</td>\n",
       "      <td>Corey</td>\n",
       "      <td>main</td>\n",
       "      <td>1</td>\n",
       "      <td>NaN</td>\n",
       "      <td>/sys/kernel/fscaps</td>\n",
       "      <td>fscaps-too_small</td>\n",
       "      <td>Corey</td>\n",
       "      <td>NaN</td>\n",
       "      <td>none</td>\n",
       "    </tr>\n",
       "    <tr>\n",
       "      <th>2</th>\n",
       "      <td>7707</td>\n",
       "      <td>2023-04-26T14:57:59.000+03:00</td>\n",
       "      <td>NaN</td>\n",
       "      <td>Corey</td>\n",
       "      <td>main</td>\n",
       "      <td>1</td>\n",
       "      <td>NaN</td>\n",
       "      <td>/sys/kernel/uevent_seqnum</td>\n",
       "      <td>uevent_seqnum-too_small</td>\n",
       "      <td>Corey</td>\n",
       "      <td>NaN</td>\n",
       "      <td>none</td>\n",
       "    </tr>\n",
       "  </tbody>\n",
       "</table>\n",
       "</div>"
      ],
      "text/plain": [
       "   _raw                          _time  eventtype   host index  linecount   \n",
       "0  acpi  2023-04-26T14:57:59.000+03:00        NaN  Corey  main          1  \\\n",
       "1     1  2023-04-26T14:57:59.000+03:00        NaN  Corey  main          1   \n",
       "2  7707  2023-04-26T14:57:59.000+03:00        NaN  Corey  main          1   \n",
       "\n",
       "   punct                     source               sourcetype splunk_server   \n",
       "0    NaN    /sys/kernel/reboot/type           type-too_small         Corey  \\\n",
       "1    NaN         /sys/kernel/fscaps         fscaps-too_small         Corey   \n",
       "2    NaN  /sys/kernel/uevent_seqnum  uevent_seqnum-too_small         Corey   \n",
       "\n",
       "   splunk_server_group timestamp  \n",
       "0                  NaN      none  \n",
       "1                  NaN      none  \n",
       "2                  NaN      none  "
      ]
     },
     "execution_count": 30,
     "metadata": {},
     "output_type": "execute_result"
    }
   ],
   "source": [
    "data = pd.read_csv('newer.csv', delimiter=',')\n",
    "data"
   ]
  },
  {
   "cell_type": "code",
   "execution_count": 32,
   "metadata": {},
   "outputs": [
    {
     "data": {
      "text/plain": [
       "_raw                   0\n",
       "_time                  0\n",
       "eventtype              3\n",
       "host                   0\n",
       "index                  0\n",
       "linecount              0\n",
       "punct                  3\n",
       "source                 0\n",
       "sourcetype             0\n",
       "splunk_server          0\n",
       "splunk_server_group    3\n",
       "timestamp              0\n",
       "dtype: int64"
      ]
     },
     "execution_count": 32,
     "metadata": {},
     "output_type": "execute_result"
    }
   ],
   "source": [
    "# data preprossing\n",
    "data.isna().sum()\n",
    "# data.duplicated().sum() #0 duplicates\n",
    "# data.shape # shape of the data"
   ]
  },
  {
   "cell_type": "code",
   "execution_count": null,
   "metadata": {},
   "outputs": [],
   "source": [
    "\n",
    "# Separate the features (inputs) and the label (output)\n",
    "X = data.drop('behavior')\n",
    "y = data['behavior'] "
   ]
  }
 ],
 "metadata": {
  "kernelspec": {
   "display_name": "Python 3",
   "language": "python",
   "name": "python3"
  },
  "language_info": {
   "codemirror_mode": {
    "name": "ipython",
    "version": 3
   },
   "file_extension": ".py",
   "mimetype": "text/x-python",
   "name": "python",
   "nbconvert_exporter": "python",
   "pygments_lexer": "ipython3",
   "version": "3.10.6"
  },
  "orig_nbformat": 4
 },
 "nbformat": 4,
 "nbformat_minor": 2
}
